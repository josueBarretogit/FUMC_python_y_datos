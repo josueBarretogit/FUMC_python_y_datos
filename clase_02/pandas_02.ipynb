{
 "cells": [
  {
   "cell_type": "markdown",
   "id": "91c38ed5",
   "metadata": {},
   "source": [
    "<a href=\"https://colab.research.google.com/github/fralfaro/MAT281_2024/blob/main/docs/lectures/data_manipulation/pd_01b.ipynb\" target=\"_parent\"><img src=\"https://colab.research.google.com/assets/colab-badge.svg\" alt=\"Open In Colab\"/></a>\n",
    "\n",
    "\n",
    "# Pandas II"
   ]
  },
  {
   "cell_type": "markdown",
   "id": "5a6d209f",
   "metadata": {},
   "source": [
    "## Groupby\n",
    "\n",
    "\n",
    "**Groupby** es un concepto bastante simple. Podemos crear una agrupación de categorías y aplicar una función a las categorías. \n",
    "\n",
    "El proceso de groupby se puede resumiren los siguientes pasos:\n",
    "\n",
    "* **División**: es un proceso en el que dividimos los datos en grupos aplicando algunas condiciones en los conjuntos de datos.\n",
    "* **Aplicación**: es un proceso en el que aplicamos una función a cada grupo de forma independiente\n",
    "* **Combinación**: es un proceso en el que combinamos diferentes conjuntos de datos después de aplicar groupby y resultados en una estructura de datos\n",
    "\n",
    "<img src=\"https://raw.githubusercontent.com/fralfaro/MAT281_2022/main/docs/lectures/data_manipulation/data_manipulation/images/groupby.jpg\" width = \"600\" align=\"center\"/>\n",
    "\n",
    "\n",
    "\n",
    "\n",
    "Después de dividir los datos en un grupo, aplicamos una función a cada grupo para realizar algunas operaciones que son:\n",
    "\n",
    "* **Agregación**: es un proceso en el que calculamos una estadística resumida (o estadística) sobre cada grupo. Por ejemplo, Calcular sumas de grupo o medios\n",
    "* **Transformación**: es un proceso en el que realizamos algunos cálculos específicos del grupo y devolvemos un índice similar. Por ejemplo, llenar NA dentro de grupos con un valor derivado de cada grupo\n",
    "* **Filtración**: es un proceso en el cual descartamos algunos grupos, de acuerdo con un cálculo grupal que evalúa Verdadero o Falso. Por ejemplo, Filtrar datos en función de la suma o media grupal"
   ]
  },
  {
   "cell_type": "code",
   "execution_count": null,
   "id": "fbe09344",
   "metadata": {
    "tags": []
   },
   "outputs": [],
   "source": [
    "import pandas as pd\n",
    "import numpy as np"
   ]
  },
  {
   "cell_type": "code",
   "execution_count": null,
   "id": "d88e3388",
   "metadata": {
    "tags": []
   },
   "outputs": [],
   "source": [
    "# cargar datos\n",
    "path = 'https://raw.githubusercontent.com/fralfaro/MAT281_2024/main/docs/lectures/data_manipulation/data/player_info.csv'\n",
    "df = pd.read_csv(path, sep=\",\" ).dropna()\n",
    "df['Decade'] = df['year_start'].apply(lambda x: '2000' if x>=2000 else '1900')\n",
    "df.head()"
   ]
  },
  {
   "cell_type": "markdown",
   "id": "d6b9bd15",
   "metadata": {},
   "source": [
    "###  Agrupar por una columna"
   ]
  },
  {
   "cell_type": "code",
   "execution_count": null,
   "id": "ed3ada00",
   "metadata": {
    "tags": []
   },
   "outputs": [],
   "source": [
    "# Agrupar por 'Decade' y calcular la suma de la columna 'Open' en cada grupo\n",
    "agrupado = df.groupby('position')['weight'].mean()\n",
    "agrupado"
   ]
  },
  {
   "cell_type": "markdown",
   "id": "29658a93",
   "metadata": {},
   "source": [
    "### Agrupar por varias columnas"
   ]
  },
  {
   "cell_type": "code",
   "execution_count": null,
   "id": "70fd671a",
   "metadata": {
    "tags": []
   },
   "outputs": [],
   "source": [
    "# Agrupar por 'Year','Month' y calcular la suma de la columna 'Open' en cada grupo\n",
    "agrupado = df.groupby(['Decade','position'])['weight'].mean()\n",
    "agrupado"
   ]
  },
  {
   "cell_type": "markdown",
   "id": "b79f6ed7",
   "metadata": {},
   "source": [
    "### Aplicar múltiples funciones "
   ]
  },
  {
   "cell_type": "code",
   "execution_count": null,
   "id": "be78424b",
   "metadata": {
    "tags": []
   },
   "outputs": [],
   "source": [
    "# Agrupar por 'Year','Month' y calcular la suma,promedio de la columna 'Open' en cada grupo\n",
    "agrupado = df.groupby(['Decade','position']).agg({'weight': ['sum', 'mean']})\n",
    "agrupado"
   ]
  },
  {
   "cell_type": "markdown",
   "id": "99320a34",
   "metadata": {},
   "source": [
    "### Groupby Apply"
   ]
  },
  {
   "cell_type": "code",
   "execution_count": null,
   "id": "08c91294",
   "metadata": {
    "tags": []
   },
   "outputs": [],
   "source": [
    "# Definimos una función que calcula el promedio armónico\n",
    "def promedio_armónico(datos):\n",
    "    n = len(datos)\n",
    "    suma_recíprocos = sum(1 / x for x in datos)\n",
    "    promedio_armónico = n / suma_recíprocos\n",
    "    return promedio_armónico\n",
    "\n",
    "# Aplicamos la función\n",
    "df.groupby(['Decade', 'position'])['weight'].apply(promedio_armónico)"
   ]
  },
  {
   "cell_type": "markdown",
   "id": "742d4235",
   "metadata": {},
   "source": [
    "### Groupby Transform\n",
    "\n",
    "En pandas, el método `transform()` permite aplicar una función de transformación a cada grupo de un objeto groupby. La función de transformación se aplica a cada grupo y el resultado se asigna de vuelta a las filas correspondientes en el DataFrame original."
   ]
  },
  {
   "cell_type": "code",
   "execution_count": null,
   "id": "07a02556",
   "metadata": {
    "tags": []
   },
   "outputs": [],
   "source": [
    "df['mean_weight'] = df.groupby(['Decade','position'])['weight'].transform('mean')\n",
    "df.head()"
   ]
  },
  {
   "cell_type": "markdown",
   "id": "a2bfa939",
   "metadata": {},
   "source": [
    "## Concat\n",
    "\n",
    "La función `concat()` realiza todo el trabajo pesado de realizar operaciones de concatenación a lo largo de un eje mientras realiza la lógica de conjunto opcional (unión o intersección) de los índices (si los hay) en los otros ejes. Tenga en cuenta que digo \"si hay alguno\" porque solo hay un único eje posible de concatenación para Series."
   ]
  },
  {
   "cell_type": "code",
   "execution_count": null,
   "id": "95664aed",
   "metadata": {
    "tags": []
   },
   "outputs": [],
   "source": [
    "# cargar datos\n",
    "path = 'data/player_info.csv'\n",
    "df = pd.read_csv(path, sep=\",\" ).dropna()\n",
    "df.head()"
   ]
  },
  {
   "cell_type": "code",
   "execution_count": null,
   "id": "e454508b",
   "metadata": {
    "tags": []
   },
   "outputs": [],
   "source": [
    "# crear datos\n",
    "df_concat1 = df.loc[lambda x: x['year_start']<2000]\n",
    "df_concat1.head()"
   ]
  },
  {
   "cell_type": "code",
   "execution_count": null,
   "id": "34e0dc12",
   "metadata": {
    "tags": []
   },
   "outputs": [],
   "source": [
    "# crear datos\n",
    "df_concat2 = df.loc[lambda x: x['year_start']>=2000]\n",
    "df_concat2.head()"
   ]
  },
  {
   "cell_type": "markdown",
   "id": "338828f9",
   "metadata": {},
   "source": [
    "### Concatenar varias tablas con las mismas columnas\n",
    "\n",
    "<img src=\"https://raw.githubusercontent.com/fralfaro/MAT281_2022/main/docs/lectures/data_manipulation/data_manipulation/images/merge_01.png\" width = \"400\" align=\"center\"/>"
   ]
  },
  {
   "cell_type": "code",
   "execution_count": null,
   "id": "8f48d35f",
   "metadata": {
    "tags": []
   },
   "outputs": [],
   "source": [
    "# concatenar mismas columnas\n",
    "result = pd.concat([df_concat1,df_concat2])\n",
    "\n",
    "# mostrar resultados\n",
    "result"
   ]
  },
  {
   "cell_type": "markdown",
   "id": "afd6a213",
   "metadata": {},
   "source": [
    "### Concatenar varias tablas distintas columnas\n",
    "\n",
    "<img src=\"https://raw.githubusercontent.com/fralfaro/MAT281_2022/main/docs/lectures/data_manipulation/data_manipulation/images/merge_02.png\" width = \"400\" align=\"center\"/>"
   ]
  },
  {
   "cell_type": "code",
   "execution_count": null,
   "id": "a414dfed",
   "metadata": {
    "tags": []
   },
   "outputs": [],
   "source": [
    "# cambiar nombre \n",
    "df_concat2 = df_concat2.rename(columns = {'birth_date':'birth'})\n",
    "\n",
    "# concatenar mismas columnas\n",
    "result = pd.concat([df_concat2,df_concat1])\n",
    "\n",
    "# mostrar resultados\n",
    "result"
   ]
  },
  {
   "cell_type": "markdown",
   "id": "6a6d4b7b",
   "metadata": {},
   "source": [
    "## Merge\n",
    "\n",
    "La función `merge()` se usa para combinar dos (o más) tablas sobre valores de columnas comunes (keys). \n",
    "\n",
    "<img src=\"https://raw.githubusercontent.com/fralfaro/MAT281_2022/main/docs/lectures/data_manipulation/data_manipulation/images/merge_04.png\" width = \"500\" align=\"center\"/>\n"
   ]
  },
  {
   "cell_type": "code",
   "execution_count": null,
   "id": "ac89f56f",
   "metadata": {
    "tags": []
   },
   "outputs": [],
   "source": [
    "# cargar datos\n",
    "path = 'data/player_info.csv'\n",
    "df = pd.read_csv(path, sep=\",\" ).dropna()\n",
    "df.head()"
   ]
  },
  {
   "cell_type": "markdown",
   "id": "da6b246c",
   "metadata": {},
   "source": [
    "**Por un columna**"
   ]
  },
  {
   "cell_type": "code",
   "execution_count": null,
   "id": "2c6ae0fd",
   "metadata": {
    "tags": []
   },
   "outputs": [],
   "source": [
    "# crear datos\n",
    "cols_merge1 = ['name', 'year_start', 'year_end', 'position']\n",
    "df_merge1 = df[cols_merge1]\n",
    "df_merge1.head()"
   ]
  },
  {
   "cell_type": "code",
   "execution_count": null,
   "id": "2bcc8cc9",
   "metadata": {
    "tags": []
   },
   "outputs": [],
   "source": [
    "# crear datos\n",
    "cols_merge2 = ['name', 'height', 'weight','birth_date', 'college']\n",
    "df_merge2 = df[cols_merge2]\n",
    "df_merge2.head()"
   ]
  },
  {
   "cell_type": "code",
   "execution_count": null,
   "id": "3ab1aada",
   "metadata": {
    "tags": []
   },
   "outputs": [],
   "source": [
    "# merge por una columna\n",
    "result = pd.merge(df_merge1, df_merge2, on='name')\n",
    "result.head()"
   ]
  },
  {
   "cell_type": "markdown",
   "id": "4f7cfce2",
   "metadata": {},
   "source": [
    "**Por Varias columnas**"
   ]
  },
  {
   "cell_type": "code",
   "execution_count": null,
   "id": "81c2fad5",
   "metadata": {
    "tags": []
   },
   "outputs": [],
   "source": [
    "# crear datos\n",
    "cols_merge1 = ['name', 'year_start', 'year_end', 'position']\n",
    "df_merge1 = df[cols_merge1]\n",
    "df_merge1.head()"
   ]
  },
  {
   "cell_type": "code",
   "execution_count": null,
   "id": "5522b687",
   "metadata": {
    "tags": []
   },
   "outputs": [],
   "source": [
    "# crear datos\n",
    "cols_merge2 = ['name', 'year_start', 'year_end', 'height', 'weight','birth_date', 'college']\n",
    "df_merge2 = df[cols_merge2]\n",
    "df_merge2.head()"
   ]
  },
  {
   "cell_type": "code",
   "execution_count": null,
   "id": "eba08d07",
   "metadata": {
    "tags": []
   },
   "outputs": [],
   "source": [
    "# merge varias columnas\n",
    "result = pd.merge(df_merge1, df_merge2, on=['name', 'year_start', 'year_end'])\n",
    "result.head()"
   ]
  },
  {
   "cell_type": "markdown",
   "id": "7b6bda84",
   "metadata": {},
   "source": [
    "### Tipos de merge\n",
    "\n",
    "La opción *how* especificica el tipo de cruce que se realizará.\n",
    "\n",
    "* **left**: usa las llaves solo de la tabla izquierda\n",
    "* **right**: usa las llaves solo de la tabla derecha\n",
    "* **outer**: usa las llaves de la unión de  ambas tablas.\n",
    "* **inner**: usa las llaves de la intersección de  ambas tablas.\n",
    "\n",
    "<img src=\"https://raw.githubusercontent.com/fralfaro/MAT281_2022/main/docs/lectures/data_manipulation/data_manipulation/images/joins2.png\" width = \"500\" align=\"center\"/>"
   ]
  },
  {
   "cell_type": "markdown",
   "id": "d096c03a",
   "metadata": {},
   "source": [
    "<img src=\"https://raw.githubusercontent.com/fralfaro/MAT281_2022/main/docs/lectures/data_manipulation/data_manipulation/images/merge_05.png\" width = \"600\" align=\"center\"/>\n",
    "\n",
    "<img src=\"https://raw.githubusercontent.com/fralfaro/MAT281_2022/main/docs/lectures/data_manipulation/data_manipulation/images/merge_06.png\" width = \"600\" align=\"center\"/>\n",
    "\n",
    "<img src=\"https://raw.githubusercontent.com/fralfaro/MAT281_2022/main/docs/lectures/data_manipulation/data_manipulation/images/merge_07.png\" width = \"600\" align=\"center\"/>\n",
    "\n",
    "<img src=\"https://raw.githubusercontent.com/fralfaro/MAT281_2022/main/docs/lectures/data_manipulation/data_manipulation/images/merge_08.png\" width = \"600\" align=\"center\"/>"
   ]
  },
  {
   "cell_type": "code",
   "execution_count": null,
   "id": "9057b0c9",
   "metadata": {
    "tags": []
   },
   "outputs": [],
   "source": [
    "# tipos de merge\n",
    "cols = ['name', 'year_start', 'year_end']\n",
    "merge_left = pd.merge(df_merge1, df_merge2, on=cols, how= 'left')\n",
    "merge_rigth  = pd.merge(df_merge1, df_merge2, on=cols, how= 'right')\n",
    "merge_inner  = pd.merge(df_merge1, df_merge2, on=cols, how= 'inner')\n",
    "merge_outer   = pd.merge(df_merge1, df_merge2, on=cols, how= 'outer')"
   ]
  },
  {
   "cell_type": "markdown",
   "id": "997b6c7b",
   "metadata": {},
   "source": [
    "### Problemas de llaves duplicadas\n",
    "\n",
    "Cuando se quiere realizar el cruce de dos tablas, pero an ambas tablas existe una columna (key) con el mismo nombre, para diferenciar la información entre la columna de una tabla y otra, pandas devulve el nombre de la columna con un guión bajo x (key_x) y otra con un guión bajo y (key_y)\n",
    "\n"
   ]
  },
  {
   "cell_type": "code",
   "execution_count": null,
   "id": "5728aad9-0acd-4039-9d7f-5db1a3db8dc4",
   "metadata": {
    "tags": []
   },
   "outputs": [],
   "source": [
    "df.columns"
   ]
  },
  {
   "cell_type": "code",
   "execution_count": null,
   "id": "13e5a679",
   "metadata": {
    "tags": []
   },
   "outputs": [],
   "source": [
    "# crear datos\n",
    "cols_merge1 = ['name', 'year_start', 'year_end', 'position' ]\n",
    "df_merge1 = df[cols_merge1]\n",
    "df_merge1.head()"
   ]
  },
  {
   "cell_type": "code",
   "execution_count": null,
   "id": "e98402f1",
   "metadata": {
    "tags": []
   },
   "outputs": [],
   "source": [
    "# crear datos\n",
    "cols_merge2 = ['name', 'year_start', 'year_end', 'height' ]\n",
    "df_merge2 = df[cols_merge2]\n",
    "df_merge2.head()"
   ]
  },
  {
   "cell_type": "code",
   "execution_count": null,
   "id": "0355e259",
   "metadata": {
    "tags": []
   },
   "outputs": [],
   "source": [
    "# merge llaves duplicadas\n",
    "result = pd.merge(df_merge1, df_merge2, on=['name', 'year_start'])\n",
    "result.head()"
   ]
  },
  {
   "cell_type": "markdown",
   "id": "f04085ce",
   "metadata": {},
   "source": [
    "## Tipos de Formatos\n",
    "\n",
    "<img src=\"https://www.statology.org/wp-content/uploads/2021/12/wideLong1-1.png\" align=\"center\" width = \"420\">\n",
    "\n",
    "\n",
    "Dentro del mundo de los dataframe (o datos tabulares) existen dos formas de presentar la naturaleza de los datos: **formato wide** y **formato long**. \n",
    "\n",
    "\n",
    "Ejemplo, el siguiente **conjunto de datos** representa estadísticas de rendimiento para cuatro equipos (A, B, C y D) en un cierto contexto deportivo. Cada fila corresponde a un equipo y muestra tres medidas diferentes de rendimiento.\n",
    "\n",
    "| Team | Points | Assists | Rebounds |\n",
    "|------|--------|---------|----------|\n",
    "| A    |   88   |    12   |    22    |\n",
    "| B    |   91   |    17   |    28    |\n",
    "| C    |   99   |    24   |    30    |\n",
    "| D    |   94   |    28   |    31    |\n",
    "\n",
    "La tabla así presentada se encuentra en **wide format**, es decir, donde los valores se extienden a través de las columnas.\n",
    "\n",
    "Sería posible representar el mismo contenido anterior en **long format**, es decir, donde los mismos valores se indicaran a través de las filas:\n",
    "\n",
    "| Team | Variable | Value |\n",
    "|------|----------|-------|\n",
    "| A    | Points   | 88    |\n",
    "| A    | Assists  | 12    |\n",
    "| A    | Rebounds | 22    |\n",
    "| B    | Points   | 91    |\n",
    "| B    | Assists  | 17    |\n",
    "| B    | Rebounds | 28    |\n",
    "| C    | Points   | 99    |\n",
    "| C    | Assists  | 24    |\n",
    "| C    | Rebounds | 30    |\n",
    "| D    | Points   | 94    |\n",
    "| D    | Assists  | 28    |\n",
    "| D    | Rebounds | 31    |\n",
    "\n",
    "\n"
   ]
  },
  {
   "cell_type": "markdown",
   "id": "42dc6108",
   "metadata": {},
   "source": [
    "### Formato long a wide\n",
    "\n",
    "El pivoteo de una tabla corresponde al paso de una tabla desde el formato **long** al formato **wide**. Típicamente esto se realiza para poder comparar los valores que se obtienen para algún registro en particular, o para utilizar algunas herramientas de visualización básica que requieren dicho formato.\n",
    "\n",
    "En Pandas se utiliza los comandos `pivot` y `pivot_table`. Formato long a wide\n",
    "\n",
    "El pivoteo de una tabla corresponde al paso de una tabla desde el formato **long** al formato **wide**. Típicamente esto se realiza para poder comparar los valores que se obtienen para algún registro en particular, o para utilizar algunas herramientas de visualización básica que requieren dicho formato.\n",
    "\n",
    "En Pandas se utiliza los comandos `pivot` y `pivot_table`. "
   ]
  },
  {
   "cell_type": "code",
   "execution_count": null,
   "id": "c1284722",
   "metadata": {
    "tags": []
   },
   "outputs": [],
   "source": [
    "# cargar datos\n",
    "path = 'data/player_info.csv'\n",
    "df = pd.read_csv(path, sep=\",\" ).dropna().drop_duplicates()\n",
    "df['Decade'] = df['year_start'].apply(lambda x: '2000' if x>=2000 else '1900')\n",
    "df.head()"
   ]
  },
  {
   "cell_type": "code",
   "execution_count": null,
   "id": "4272b51c",
   "metadata": {
    "tags": []
   },
   "outputs": [],
   "source": [
    "# pivot: simple\n",
    "agrupado = df.groupby(['Decade','position'])['weight'].mean().reset_index()\n",
    "pivot_df = agrupado.pivot(index='Decade', columns='position', values='weight')\n",
    "pivot_df.head(10)"
   ]
  },
  {
   "cell_type": "code",
   "execution_count": null,
   "id": "2b4a36fa",
   "metadata": {
    "tags": []
   },
   "outputs": [],
   "source": [
    "# pivot: multiple\n",
    "agrupado = df.groupby(['Decade','position','height'])['weight'].mean().fillna(0).astype(int).reset_index()\n",
    "pivot_df = agrupado.pivot(index=['Decade','height'], columns='position', values='weight').fillna(0)\n",
    "pivot_df.head(10)"
   ]
  },
  {
   "cell_type": "code",
   "execution_count": null,
   "id": "865aa9a4",
   "metadata": {
    "tags": []
   },
   "outputs": [],
   "source": [
    "# pivot_table: simple\n",
    "pivot_df = df.pivot_table(index='Decade', columns='position', values='weight', aggfunc='mean')\n",
    "pivot_df.head(10)"
   ]
  },
  {
   "cell_type": "code",
   "execution_count": null,
   "id": "697757e2",
   "metadata": {
    "tags": []
   },
   "outputs": [],
   "source": [
    "# pivot_table: multiple\n",
    "pivot_df = df.pivot_table(index=['Decade','height'], columns='position', values='weight', aggfunc='mean').fillna(0)\n",
    "pivot_df.head(10)"
   ]
  },
  {
   "cell_type": "markdown",
   "id": "08789e89",
   "metadata": {},
   "source": [
    "### Formato wide a long\n",
    "\n",
    "\n",
    "El despivotear una tabla corresponde al paso de una tabla desde el formato **wide** al formato **long**. \n",
    "\n",
    "Se reconocen dos situaciones:\n",
    "\n",
    "1. El valor indicado para la columna es **único**, y sólo se requiere definir correctamente las columnas.\n",
    "2. El valor indicado por la columna **no es único**, y se requiere una iteración más profunda.\n",
    "\n",
    "Para despivotear un dataframe en Pandas, utilizaremos el comando `melt`.\n"
   ]
  },
  {
   "cell_type": "code",
   "execution_count": null,
   "id": "cdc1e5b3-d513-4a6b-8fa7-8470dae7c981",
   "metadata": {
    "tags": []
   },
   "outputs": [],
   "source": [
    "cols_index = ['name','year_start','year_end']\n",
    "pivot_df = df.pivot_table(index=cols_index, columns='position', values='weight', aggfunc='mean').fillna(0).reset_index()\n",
    "pivot_df.head()"
   ]
  },
  {
   "cell_type": "code",
   "execution_count": null,
   "id": "70648028",
   "metadata": {
    "tags": []
   },
   "outputs": [],
   "source": [
    "# aplicar comando melt\n",
    "df_melt = pd.melt(\n",
    "    df, \n",
    "    id_vars=cols_index, \n",
    "    var_name='Type',\n",
    "    value_name='Value'\n",
    ")\n",
    "\n",
    "\n",
    "df_melt = df_melt.drop('Type',axis=1).rename(columns={'Value':'position'})\n",
    "df_melt.head()"
   ]
  },
  {
   "cell_type": "markdown",
   "id": "3f0f136b",
   "metadata": {},
   "source": [
    "## Referencias\n",
    "\n",
    "\n",
    "* [Groupby](https://pandas.pydata.org/pandas-docs/stable/user_guide/groupby.html)\n",
    "* [Merge, join, and concatenate](https://pandas.pydata.org/pandas-docs/stable/user_guide/merging.html)\n",
    "* [Reshaping and pivot tables](https://pandas.pydata.org/pandas-docs/stable/user_guide/reshaping.html)"
   ]
  }
 ],
 "metadata": {
  "kernelspec": {
   "display_name": "Python 3 (ipykernel)",
   "language": "python",
   "name": "python3"
  },
  "language_info": {
   "codemirror_mode": {
    "name": "ipython",
    "version": 3
   },
   "file_extension": ".py",
   "mimetype": "text/x-python",
   "name": "python",
   "nbconvert_exporter": "python",
   "pygments_lexer": "ipython3",
   "version": "3.11.1"
  },
  "nbTranslate": {
   "displayLangs": [
    "*"
   ],
   "hotkey": "alt-t",
   "langInMainMenu": true,
   "sourceLang": "en",
   "targetLang": "fr",
   "useGoogleTranslate": true
  }
 },
 "nbformat": 4,
 "nbformat_minor": 5
}
