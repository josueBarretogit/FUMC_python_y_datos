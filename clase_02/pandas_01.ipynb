{
 "cells": [
  {
   "cell_type": "markdown",
   "metadata": {},
   "source": [
    "Apuntes de Pandas obtenidos del curso MAT281, desarrollado inicialmente por Sebastián Flores, ampliado y mejorado por Francisco Alfaro y Alonso Ogueda. Links: https://github.com/fralfaro/MAT281_2024/ (versión actual), "
   ]
  },
  {
   "cell_type": "markdown",
   "metadata": {},
   "source": [
    "<a href=\"https://colab.research.google.com/github/fralfaro/MAT281_2024/blob/main/docs/lectures/data_manipulation/pd_01a.ipynb\" target=\"_parent\"><img src=\"https://colab.research.google.com/assets/colab-badge.svg\" alt=\"Open In Colab\"/></a>\n",
    "\n",
    "\n",
    "# Pandas I"
   ]
  },
  {
   "cell_type": "markdown",
   "metadata": {},
   "source": [
    "<img src=\"https://upload.wikimedia.org/wikipedia/commons/thumb/e/ed/Pandas_logo.svg/2560px-Pandas_logo.svg.png\" width = \"300\" align=\"center\"/>\n"
   ]
  },
  {
   "cell_type": "markdown",
   "metadata": {},
   "source": [
    "## Introducción \n",
    "\n",
    "[Pandas](https://pandas.pydata.org/) es un paquete de Python que proporciona estructuras de datos rápidas, flexibles y expresivas diseñadas para que trabajar con datos \"relacionales\" o \"etiquetados\" sea fácil e intuitivo. \n",
    "\n",
    "Su objetivo es ser el bloque de construcción fundamental de alto nivel para hacer análisis de datos prácticos del mundo real en Python. Además, tiene el objetivo más amplio de convertirse en la herramienta de análisis/manipulación de datos de código abierto más potente y flexible disponible en cualquier idioma. Ya está en camino hacia este objetivo."
   ]
  },
  {
   "cell_type": "markdown",
   "metadata": {},
   "source": [
    "**Series y DataFrames**\n",
    "\n",
    "* Las **series** son  arreglos unidimensionales con etiquetas. Se puede pensar como una generalización de los diccionarios de Python. \n",
    "\n",
    "<img src=\"https://raw.githubusercontent.com/fralfaro/MAT281_2022/main/docs/lectures/data_manipulation/data_manipulation/images/series.png\" width = \"300\" align=\"center\"/>\n"
   ]
  },
  {
   "cell_type": "markdown",
   "metadata": {
    "jupyter": {
     "source_hidden": true
    }
   },
   "source": [
    "* Los **dataframe** son arreglos bidimensionales y una extensión natural de las series. Se puede pensar como la generalización de un numpy.array.\n",
    "\n",
    "<img src=\"https://raw.githubusercontent.com/fralfaro/MAT281_2022/main/docs/lectures/data_manipulation/data_manipulation/images/dataframe.png\" width = \"800\" align=\"center\"/>"
   ]
  },
  {
   "cell_type": "markdown",
   "metadata": {},
   "source": [
    "## Pandas Dataframes\n",
    "\n",
    "\n",
    "Como se mencina anteriormente, los dataframes son arreglos de series, los cuales pueden ser de distintos tipos (numéricos, string, etc.). En esta parte mostraremos un ejemplo aplicado de las distintas funcionalidades de los dataframes."
   ]
  },
  {
   "cell_type": "markdown",
   "metadata": {},
   "source": [
    "### Creación de Dataframes\n",
    "\n",
    "La creación se puede hacer de variadas formas con listas, dictionarios , numpy array , entre otros.\n"
   ]
  },
  {
   "cell_type": "code",
   "execution_count": null,
   "metadata": {},
   "outputs": [],
   "source": [
    "import pandas as pd\n",
    "import numpy as np"
   ]
  },
  {
   "cell_type": "code",
   "execution_count": null,
   "metadata": {},
   "outputs": [],
   "source": [
    "# empty dataframe\n",
    "df_empty = pd.DataFrame()\n",
    "df_empty"
   ]
  },
  {
   "cell_type": "code",
   "execution_count": null,
   "metadata": {},
   "outputs": [],
   "source": [
    "# dataframe with list\n",
    "df_list = pd.DataFrame(\n",
    "    [\n",
    "        [\"nombre_01\", \"apellido_01\", 60],\n",
    "        [\"nombre_02\", \"apellido_02\", 14]\n",
    "    ],\n",
    "    \n",
    "    columns = [\"nombre\", \"apellido\", \"edad\"]\n",
    ")\n",
    "df_list"
   ]
  },
  {
   "cell_type": "code",
   "execution_count": null,
   "metadata": {},
   "outputs": [],
   "source": [
    "# dataframe with dct\n",
    "df_dct =  pd.DataFrame(\n",
    "    {\n",
    "        \"nombre\": [\"nombre_01\", \"nombre_02\",],\n",
    "        \"apellido\": [\"apellido_01\", \"apellido_02\"],\n",
    "        \"edad\": np.array([60,14]),\n",
    "    }\n",
    ")\n",
    "\n",
    "df_dct"
   ]
  },
  {
   "cell_type": "markdown",
   "metadata": {},
   "source": [
    "### Lectura de Datos\n",
    "\n",
    "En general, cuando se trabajan con datos, estos se almacenan en algún lugar y en algún tipo de formato, por ejemplo:\n",
    "* `.txt`\n",
    "* `.csv`\n",
    "* `.xlsx`\n",
    "* `.db`\n",
    "* etc."
   ]
  },
  {
   "cell_type": "markdown",
   "metadata": {},
   "source": [
    "🏀 **Ejemplo**: El conjunto de datos \"player_info.csv\" es una colección exhaustiva que proporciona información detallada sobre los jugadores de la NBA desde el año 1947 hasta el 2018. \n",
    "\n",
    "En conjunto, estas columnas ofrecen una visión completa de los jugadores de la NBA durante más de medio siglo, permitiendo análisis detallados sobre su trayectoria, características físicas y antecedentes educativos.\n",
    "\n",
    "<img src=\"https://www.edigitalagency.com.au/wp-content/uploads/NBA-logo-png.png\" width = \"200\" align=\"center\"/>\n",
    "\n",
    "📋**Descripción de las columnas**\n",
    "\n",
    "\n",
    "| Columna      | Descripción                                                                                                                                                     |\n",
    "|--------------|-----------------------------------------------------------------------------------------------------------------------------------------------------------------|\n",
    "| name         | El nombre completo de cada jugador en el formato \"apellido, nombre\".                                                                                            |\n",
    "| year_start   | El año en el que cada jugador comenzó su carrera profesional en la NBA.                                                                                         |\n",
    "| year_end     | El año en el que la carrera profesional de cada jugador en la NBA llegó a su fin.                                                                                |\n",
    "| position     | La posición principal en la que cada jugador se desempeña en el campo de juego (base, escolta, alero, ala-pívot, pívot).                                        |\n",
    "| height       | La altura de cada jugador en pulgadas.                                                                                                                         |\n",
    "| weight       | El peso de cada jugador en libras.                                                                                                                              |\n",
    "| birth_date   | La fecha de nacimiento de cada jugador.                                                                                                                          |\n",
    "| college      | La universidad a la que asistió cada jugador antes de ingresar a la NBA.                                                                                        |\n",
    "\n"
   ]
  },
  {
   "cell_type": "code",
   "execution_count": null,
   "metadata": {},
   "outputs": [],
   "source": [
    "# cargar datos\n",
    "import os\n",
    "path = os.path.join(\"data\", \"player_info.csv\")\n",
    "#path = 'https://raw.githubusercontent.com/fralfaro/MAT281_2024/main/docs/lectures/data_manipulation/data/player_info.csv'\n",
    "df = pd.read_csv(path, sep=\",\" )"
   ]
  },
  {
   "cell_type": "code",
   "execution_count": null,
   "metadata": {},
   "outputs": [],
   "source": [
    "# mostar resultados\n",
    "df.head()"
   ]
  },
  {
   "cell_type": "markdown",
   "metadata": {},
   "source": [
    "### Objetos de Pandas\n",
    "\n",
    "En un nivel muy básico, los objetos de Pandas se pueden considerar como versiones mejoradas de matrices de `numpy` en las que las filas y columnas se identifican con etiquetas en lugar de simples índices enteros."
   ]
  },
  {
   "cell_type": "markdown",
   "metadata": {},
   "source": [
    "**DataFrame**"
   ]
  },
  {
   "cell_type": "code",
   "execution_count": null,
   "metadata": {},
   "outputs": [],
   "source": [
    "# valores\n",
    "df.values"
   ]
  },
  {
   "cell_type": "code",
   "execution_count": null,
   "metadata": {},
   "outputs": [],
   "source": [
    "# indice\n",
    "df.index"
   ]
  },
  {
   "cell_type": "code",
   "execution_count": null,
   "metadata": {},
   "outputs": [],
   "source": [
    "# columnas\n",
    "df.columns"
   ]
  },
  {
   "cell_type": "code",
   "execution_count": null,
   "metadata": {},
   "outputs": [],
   "source": [
    "# tipo\n",
    "type(df)"
   ]
  },
  {
   "cell_type": "markdown",
   "metadata": {},
   "source": [
    "**Series**"
   ]
  },
  {
   "cell_type": "code",
   "execution_count": null,
   "metadata": {},
   "outputs": [],
   "source": [
    "# elegir columna (pueden ser una o varias)\n",
    "pd_series = df['name']"
   ]
  },
  {
   "cell_type": "code",
   "execution_count": null,
   "metadata": {},
   "outputs": [],
   "source": [
    "# valores\n",
    "pd_series.values"
   ]
  },
  {
   "cell_type": "code",
   "execution_count": null,
   "metadata": {},
   "outputs": [],
   "source": [
    "# indice\n",
    "pd_series.index"
   ]
  },
  {
   "cell_type": "code",
   "execution_count": null,
   "metadata": {},
   "outputs": [],
   "source": [
    "# tipo\n",
    "type(pd_series)"
   ]
  },
  {
   "cell_type": "markdown",
   "metadata": {},
   "source": [
    "### Operaciones en Pandas\n",
    "\n",
    "Las operaciones en Pandas se refieren a las acciones que se pueden realizar sobre los objetos de Pandas, como Series y DataFrames, para manipular, transformar y analizar datos. "
   ]
  },
  {
   "cell_type": "markdown",
   "metadata": {},
   "source": [
    "#### Operaciones Básicas"
   ]
  },
  {
   "cell_type": "code",
   "execution_count": null,
   "metadata": {},
   "outputs": [],
   "source": [
    "# priemras filas \n",
    "df.head()"
   ]
  },
  {
   "cell_type": "code",
   "execution_count": null,
   "metadata": {},
   "outputs": [],
   "source": [
    "# ultimas filas \n",
    "df.tail()"
   ]
  },
  {
   "cell_type": "code",
   "execution_count": null,
   "metadata": {},
   "outputs": [],
   "source": [
    "# informacion del dataframe\n",
    "df.info()"
   ]
  },
  {
   "cell_type": "code",
   "execution_count": null,
   "metadata": {},
   "outputs": [],
   "source": [
    "# tipo de datos por columnas\n",
    "df.dtypes"
   ]
  },
  {
   "cell_type": "code",
   "execution_count": null,
   "metadata": {},
   "outputs": [],
   "source": [
    "# filas y columnas\n",
    "df.shape"
   ]
  },
  {
   "cell_type": "code",
   "execution_count": null,
   "metadata": {},
   "outputs": [],
   "source": [
    "# estadisticas basicas\n",
    "df.describe()"
   ]
  },
  {
   "cell_type": "code",
   "execution_count": null,
   "metadata": {},
   "outputs": [],
   "source": [
    "# cantidad de objetos unicos - columna especifica\n",
    "df['year_start'].nunique()"
   ]
  },
  {
   "cell_type": "code",
   "execution_count": null,
   "metadata": {},
   "outputs": [],
   "source": [
    "# objetos unicos por columna especifica\n",
    "df['year_start'].unique()"
   ]
  },
  {
   "cell_type": "code",
   "execution_count": null,
   "metadata": {},
   "outputs": [],
   "source": [
    "# cantidad de objetos unicos - todas las columnas\n",
    "df.nunique()"
   ]
  },
  {
   "cell_type": "code",
   "execution_count": null,
   "metadata": {},
   "outputs": [],
   "source": [
    "# numero de ocurrencias de cada valor en una columna\n",
    "df['year_start'].value_counts()#.sort_index()"
   ]
  },
  {
   "cell_type": "code",
   "execution_count": null,
   "metadata": {},
   "outputs": [],
   "source": [
    "# ordenar valores - por columna especifica, menor a mayor\n",
    "df.sort_values('year_start', ascending = True).head()"
   ]
  },
  {
   "cell_type": "code",
   "execution_count": null,
   "metadata": {},
   "outputs": [],
   "source": [
    "# ordenar valores - por columna especifica, mayor a menor\n",
    "df.sort_values('year_start', ascending = False).head()"
   ]
  },
  {
   "cell_type": "markdown",
   "metadata": {},
   "source": [
    "#### Operaciones Matemáticas"
   ]
  },
  {
   "cell_type": "code",
   "execution_count": null,
   "metadata": {},
   "outputs": [],
   "source": [
    "# operaciones aritmeticas\n",
    "s1 = df['year_end']\n",
    "s2 = df['year_start']\n",
    "\n",
    "suma = s1+s2\n",
    "resta = s1-s2\n",
    "multiplicacion = s1*s2\n",
    "division = s1/s2\n",
    "\n",
    "# suma\n",
    "print(f\"suma: \\n{suma.head()}\\n\")\n",
    "\n",
    "# resta\n",
    "print(f\"resta: \\n{resta.head()}\\n\")\n",
    "\n",
    "# multiplicacion\n",
    "print(f\"multiplicacion: \\n{multiplicacion.head()}\\n\")\n",
    "\n",
    "# division\n",
    "print(f\"division: \\n{division.head()}\")"
   ]
  },
  {
   "cell_type": "code",
   "execution_count": null,
   "metadata": {},
   "outputs": [],
   "source": [
    "# operaciones estadisticas\n",
    "s1 = df['year_start']\n",
    "\n",
    "print(f\"mean: {s1.mean()}\") # mean\n",
    "print(f\"std:  {s1.std()}\") # std\n",
    "print(f\"min:  {s1.min()}\") # min\n",
    "print(f\"max:  {s1.max()}\") # max"
   ]
  },
  {
   "cell_type": "code",
   "execution_count": null,
   "metadata": {},
   "outputs": [],
   "source": [
    "# correlaciones lineales\n",
    "cols = ['year_start', 'year_end']\n",
    "df[cols].corr()"
   ]
  },
  {
   "cell_type": "markdown",
   "metadata": {},
   "source": [
    "#### Operaciones Avanzadas"
   ]
  },
  {
   "cell_type": "code",
   "execution_count": null,
   "metadata": {},
   "outputs": [],
   "source": [
    "# crear una columna constante\n",
    "df['label'] = 'NBA'\n",
    "df.head()"
   ]
  },
  {
   "cell_type": "code",
   "execution_count": null,
   "metadata": {},
   "outputs": [],
   "source": [
    "# Eliminar columna\n",
    "df = df.drop('label',axis=1)\n",
    "df.head()"
   ]
  },
  {
   "cell_type": "code",
   "execution_count": null,
   "metadata": {},
   "outputs": [],
   "source": [
    "# nueva columna a partir de otras dos\n",
    "df['duration'] = df['year_end']-df['year_start']\n",
    "df.head()"
   ]
  },
  {
   "cell_type": "code",
   "execution_count": null,
   "metadata": {},
   "outputs": [],
   "source": [
    "# mediante funciones 'apply'\n",
    "df['greater_than_10'] = df['duration'].apply(lambda x: 1 if x>10 else 0)\n",
    "df.head()"
   ]
  },
  {
   "cell_type": "code",
   "execution_count": null,
   "metadata": {},
   "outputs": [],
   "source": [
    "df['greater_than_10'].value_counts()"
   ]
  },
  {
   "cell_type": "markdown",
   "metadata": {},
   "source": [
    "Muchas veces, en un Dataframe se necesita realizar operaciones entre  la fila actual y la fila anterior, lo cual puede ser complejo si no se utilizan las funciones correctas. A continuación se trabajan algunas de estas funciones:\n",
    "\n",
    "1. **`shift()`**: Se utiliza para mover hacia arriba o hacia abajo los valores de una columna o serie de datos.\n",
    "2. **`cumsum()`**: es una función que se utiliza para calcular la suma acumulativa de valores a lo largo de un eje en un DataFrame o una Serie.\n",
    "3. **`pct_change()`**: es una función que se utiliza para calcular el cambio porcentual entre los elementos de una serie o columna en un DataFrame. \n",
    "4. **`rank()`**: es una función que se utiliza para asignar un rango a los elementos de una serie o columna en un DataFrame."
   ]
  },
  {
   "cell_type": "code",
   "execution_count": null,
   "metadata": {},
   "outputs": [],
   "source": [
    "# aplicar funciones\n",
    "df['shift'] = df['duration'].shift() # se muestra el valor de la fila anterior (la primera fila en este caso es NaN)\n",
    "df['cumsum'] = df['duration'].cumsum()  # suma acumulada entre la fila actual y todas las anteriores\n",
    "df['pct_change'] = df['duration'].pct_change() # porcentaje de cambio entre la fila actual y la anterior \n",
    "df['rank'] = df['duration'].rank() # ranking de los valores (donde 1 es el menor valor)\n",
    "df.head()"
   ]
  },
  {
   "cell_type": "code",
   "execution_count": null,
   "metadata": {},
   "outputs": [],
   "source": [
    "cols = ['shift', 'cumsum','pct_change', 'rank']\n",
    "df = df.drop(cols,axis=1)\n",
    "df.head()"
   ]
  },
  {
   "cell_type": "markdown",
   "metadata": {},
   "source": [
    "### Filtrar Datos\n",
    "\n",
    "Para filtrar datos en Pandas, se utiliza el método `loc()` o `iloc()`, dependiendo de si queremos filtrar por etiquetas de índice o por posición. Para efectos prácticos, utilizaremos solo `loc()`."
   ]
  },
  {
   "cell_type": "code",
   "execution_count": null,
   "metadata": {},
   "outputs": [],
   "source": [
    "# 'fecha' mayor a 2000\n",
    "df_new = df.loc[df['year_start'] >= 2000]\n",
    "df_new.head()"
   ]
  },
  {
   "cell_type": "code",
   "execution_count": null,
   "metadata": {},
   "outputs": [],
   "source": [
    "# crear condicion\n",
    "valor_objetivo = 2000 \n",
    "condicion = (df['year_start'] >= valor_objetivo)\n",
    "condicion.head()"
   ]
  },
  {
   "cell_type": "code",
   "execution_count": null,
   "metadata": {},
   "outputs": [],
   "source": [
    "# aplicar condicion\n",
    "df_new = df.loc[condicion]\n",
    "df_new.head()"
   ]
  },
  {
   "cell_type": "markdown",
   "metadata": {},
   "source": [
    "Veamos distintos tipos de filtros:"
   ]
  },
  {
   "cell_type": "code",
   "execution_count": null,
   "metadata": {},
   "outputs": [],
   "source": [
    "# mayor o igual a 2000\n",
    "df_new = df.loc[df['year_start'] >= 2000]\n",
    "df_new.head()"
   ]
  },
  {
   "cell_type": "code",
   "execution_count": null,
   "metadata": {},
   "outputs": [],
   "source": [
    "# entre 2005-2015\n",
    "df_new = df.loc[df['year_start'].between(2005,2015)]\n",
    "df_new.head()"
   ]
  },
  {
   "cell_type": "code",
   "execution_count": null,
   "metadata": {},
   "outputs": [],
   "source": [
    "# solo 2000\n",
    "df_new = df.loc[df['year_start']==2000]\n",
    "df_new.head()"
   ]
  },
  {
   "cell_type": "code",
   "execution_count": null,
   "metadata": {},
   "outputs": [],
   "source": [
    "# varias condiciones condiciones\n",
    "df_new = df.loc[(df['year_start']==2000) & (df['duration']>5)]\n",
    "df_new.head()"
   ]
  },
  {
   "cell_type": "code",
   "execution_count": null,
   "metadata": {},
   "outputs": [],
   "source": [
    "# Filtrar por patrón de texto \n",
    "df_new = df.loc[df['name'].str.contains('Michael')]\n",
    "df_new.head()"
   ]
  },
  {
   "cell_type": "markdown",
   "metadata": {},
   "source": [
    "### Valores Nulos y Duplicados\n",
    "\n",
    "#### Valores Nulos\n",
    "\n",
    "Un valor nulo (o faltante) representa la ausencia de un valor en una celda específica de un DataFrame o una Serie. Los valores nulos pueden ocurrir por varias razones, como datos perdidos o no disponibles, errores de medición o problemas de entrada de datos.\n",
    "\n",
    "Los valores nulos se representan en Pandas mediante el objeto `NaN` (acrónimo de \"Not a Number\"). `NaN` es un valor especial de punto flotante definido en el estándar **IEEE** para representar valores no definidos o indefinidos. En Pandas, los valores nulos se representan como `NaN` para las Series y DataFrames que utilizan datos numéricos, y como `None` para las Series y DataFrames que utilizan datos no numéricos."
   ]
  },
  {
   "cell_type": "code",
   "execution_count": null,
   "metadata": {},
   "outputs": [],
   "source": [
    "# valores nulos\n",
    "df.isnull().sum()"
   ]
  },
  {
   "cell_type": "code",
   "execution_count": null,
   "metadata": {},
   "outputs": [],
   "source": [
    "# Eliminar las filas que contienen valores nulos\n",
    "df_new = df.dropna()\n",
    "df_new.head()"
   ]
  },
  {
   "cell_type": "code",
   "execution_count": null,
   "metadata": {},
   "outputs": [],
   "source": [
    "# Rellenar los valores nulos con un valor específico, por ejemplo cero\n",
    "df_new = df.fillna(0)\n",
    "df_new.head()"
   ]
  },
  {
   "cell_type": "markdown",
   "metadata": {},
   "source": [
    "#### Datos Duplicados\n",
    "\n",
    "En Pandas, se pueden manejar los datos duplicados utilizando el método `duplicated()` y `drop_duplicates()`.\n",
    "\n",
    "* El método `duplicated()` devuelve un booleano que indica si una fila es duplicada o no, es decir, si existe otra fila con los mismos valores.\n",
    "* El método `drop_duplicates()` elimina las filas duplicadas de un DataFrame.\n"
   ]
  },
  {
   "cell_type": "code",
   "execution_count": null,
   "metadata": {},
   "outputs": [],
   "source": [
    "# Comprobar filas duplicadas\n",
    "df.duplicated().sum()"
   ]
  },
  {
   "cell_type": "code",
   "execution_count": null,
   "metadata": {},
   "outputs": [],
   "source": [
    "# Eliminar filas duplicadas\n",
    "df_new = df.drop_duplicates()\n",
    "df_new.head()"
   ]
  },
  {
   "cell_type": "code",
   "execution_count": null,
   "metadata": {},
   "outputs": [],
   "source": [
    "# Comprobar filas duplicadas\n",
    "df_new.duplicated().sum()"
   ]
  },
  {
   "cell_type": "markdown",
   "metadata": {},
   "source": [
    "### Manipulación de Fechas\n",
    "\n",
    "Pandas se desarrolló en el contexto del modelado financiero, por lo que, contiene varias herramientas para trabajar con fechas, horas y datos indexados por tiempo.\n",
    "\n",
    "Comenzaremos por entendender las herramientas para manejar fechas y horas en Python, antes de pasar más específicamente a las herramientas proporcionadas por Pandas. "
   ]
  },
  {
   "cell_type": "code",
   "execution_count": null,
   "metadata": {},
   "outputs": [],
   "source": [
    "import datetime\n",
    "now = datetime.datetime.now()\n",
    "print(now)"
   ]
  },
  {
   "cell_type": "markdown",
   "metadata": {},
   "source": [
    "Puedes acceder a partes específicas de un objeto `datetime.datetime`, como el año, el mes, el día, la hora, el minuto y el segundo. Algunos de los atributos más comunes son:\n",
    "\n",
    "* `year`: representa el año de la fecha y la hora.\n",
    "* `month`: representa el mes de la fecha y la hora, como un número entre 1 y 12.\n",
    "* `day`: representa el día del mes de la fecha y la hora, como un número entre 1 y 31.\n",
    "* `hour`: representa la hora del día de la fecha y la hora, como un número entre 0 y 23.\n",
    "* `minute`: representa los minutos de la hora de la fecha y la hora, como un número entre 0 y 59.\n",
    "* `second`: representa los segundos de la hora de la fecha y la hora, como un número entre 0 y 59.\n",
    "* `microsecond`: representa los microsegundos de la hora de la fecha y la hora, como un número entre 0 y 999999."
   ]
  },
  {
   "cell_type": "markdown",
   "metadata": {},
   "source": [
    "Veamos todo lo anterior, aplicado al dataframe que estamos trabajando:"
   ]
  },
  {
   "cell_type": "code",
   "execution_count": null,
   "metadata": {},
   "outputs": [],
   "source": [
    "# cambiar formato de la fecha \n",
    "df['new_birth_date'] = pd.to_datetime(df['birth_date'])\n",
    "df.head()"
   ]
  },
  {
   "cell_type": "code",
   "execution_count": null,
   "metadata": {},
   "outputs": [],
   "source": [
    "# ver atributos\n",
    "df.dtypes"
   ]
  },
  {
   "cell_type": "code",
   "execution_count": null,
   "metadata": {},
   "outputs": [],
   "source": [
    "# calcular atributos como año, mes, dia, ...\n",
    "df['year'] = df['new_birth_date'].dt.year\n",
    "df['month'] = df['new_birth_date'].dt.month\n",
    "df['day'] = df['new_birth_date'].dt.day\n",
    "df['hour'] = df['new_birth_date'].dt.hour\n",
    "df['minute'] = df['new_birth_date'].dt.minute\n",
    "df['second'] = df['new_birth_date'].dt.second\n",
    "df['microsecond'] = df['new_birth_date'].dt.microsecond\n",
    "\n",
    "df.head()"
   ]
  },
  {
   "cell_type": "code",
   "execution_count": null,
   "metadata": {},
   "outputs": [],
   "source": [
    "# lista de columnas a eliminar\n",
    "columnas_a_eliminar = ['year', 'month', 'day', 'hour', 'minute', 'second', 'microsecond']\n",
    "\n",
    "# eliminar las columnas\n",
    "df = df.drop(columnas_a_eliminar, axis=1)\n",
    "\n",
    "# mostrar dataframe\n",
    "df.head()"
   ]
  },
  {
   "cell_type": "markdown",
   "metadata": {},
   "source": [
    "## Referencias\n",
    "\n",
    "1. [Python Pandas Tutorial: A Complete Introduction for Beginners](https://www.learndatasci.com/tutorials/python-pandas-tutorial-complete-introduction-for-beginners/)\n",
    "2. [General functions](https://pandas.pydata.org/pandas-docs/stable/reference/general_functions.html)"
   ]
  }
 ],
 "metadata": {
  "kernelspec": {
   "display_name": "Python 3 (ipykernel)",
   "language": "python",
   "name": "python3"
  },
  "language_info": {
   "codemirror_mode": {
    "name": "ipython",
    "version": 3
   },
   "file_extension": ".py",
   "mimetype": "text/x-python",
   "name": "python",
   "nbconvert_exporter": "python",
   "pygments_lexer": "ipython3",
   "version": "3.11.1"
  },
  "nbTranslate": {
   "displayLangs": [
    "*"
   ],
   "hotkey": "alt-t",
   "langInMainMenu": true,
   "sourceLang": "en",
   "targetLang": "fr",
   "useGoogleTranslate": true
  }
 },
 "nbformat": 4,
 "nbformat_minor": 4
}
